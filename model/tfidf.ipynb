{
 "cells": [
  {
   "cell_type": "code",
   "execution_count": 10,
   "metadata": {},
   "outputs": [],
   "source": [
    "import pandas as pd\n",
    "from sklearn.feature_extraction.text import TfidfVectorizer\n",
    "from sklearn.metrics.pairwise import cosine_similarity\n",
    "from nltk.corpus import stopwords\n",
    "from nltk.tokenize import word_tokenize\n",
    "import nltk"
   ]
  },
  {
   "cell_type": "code",
   "execution_count": 11,
   "metadata": {},
   "outputs": [
    {
     "name": "stderr",
     "output_type": "stream",
     "text": [
      "[nltk_data] Downloading package stopwords to\n",
      "[nltk_data]     C:\\Users\\User\\AppData\\Roaming\\nltk_data...\n",
      "[nltk_data]   Package stopwords is already up-to-date!\n",
      "[nltk_data] Downloading package punkt to\n",
      "[nltk_data]     C:\\Users\\User\\AppData\\Roaming\\nltk_data...\n",
      "[nltk_data]   Package punkt is already up-to-date!\n"
     ]
    },
    {
     "data": {
      "text/html": [
       "<div>\n",
       "<style scoped>\n",
       "    .dataframe tbody tr th:only-of-type {\n",
       "        vertical-align: middle;\n",
       "    }\n",
       "\n",
       "    .dataframe tbody tr th {\n",
       "        vertical-align: top;\n",
       "    }\n",
       "\n",
       "    .dataframe thead th {\n",
       "        text-align: right;\n",
       "    }\n",
       "</style>\n",
       "<table border=\"1\" class=\"dataframe\">\n",
       "  <thead>\n",
       "    <tr style=\"text-align: right;\">\n",
       "      <th></th>\n",
       "      <th>job_description</th>\n",
       "      <th>resume</th>\n",
       "      <th>expected_place</th>\n",
       "    </tr>\n",
       "  </thead>\n",
       "  <tbody>\n",
       "    <tr>\n",
       "      <th>0</th>\n",
       "      <td>Location: Remote Company: XYZ Solutions Inc.Ab...</td>\n",
       "      <td>John Doe123 Main Street | Anytown, USA, 12345 ...</td>\n",
       "      <td>1</td>\n",
       "    </tr>\n",
       "    <tr>\n",
       "      <th>1</th>\n",
       "      <td>Location: RemoteCompany: XYZ Solutions Inc.Abo...</td>\n",
       "      <td>John Doe123 Main Street | Anytown, USA, 12345 ...</td>\n",
       "      <td>2</td>\n",
       "    </tr>\n",
       "    <tr>\n",
       "      <th>2</th>\n",
       "      <td>Location: RemoteCompany: XYZ Solutions Inc.Abo...</td>\n",
       "      <td>John Doe123 Main Street | Anytown, USA, 12345 ...</td>\n",
       "      <td>3</td>\n",
       "    </tr>\n",
       "    <tr>\n",
       "      <th>3</th>\n",
       "      <td>Location: RemoteCompany: XYZ Solutions Inc.Abo...</td>\n",
       "      <td>John Doe123 Main Street | Anytown, USA, 12345 ...</td>\n",
       "      <td>4</td>\n",
       "    </tr>\n",
       "    <tr>\n",
       "      <th>4</th>\n",
       "      <td>Location: RemoteCompany: XYZ Solutions Inc.Abo...</td>\n",
       "      <td>Jane Smith123 Elm Street | Springfield, IL 627...</td>\n",
       "      <td>5</td>\n",
       "    </tr>\n",
       "  </tbody>\n",
       "</table>\n",
       "</div>"
      ],
      "text/plain": [
       "                                     job_description  \\\n",
       "0  Location: Remote Company: XYZ Solutions Inc.Ab...   \n",
       "1  Location: RemoteCompany: XYZ Solutions Inc.Abo...   \n",
       "2  Location: RemoteCompany: XYZ Solutions Inc.Abo...   \n",
       "3  Location: RemoteCompany: XYZ Solutions Inc.Abo...   \n",
       "4  Location: RemoteCompany: XYZ Solutions Inc.Abo...   \n",
       "\n",
       "                                              resume  expected_place  \n",
       "0  John Doe123 Main Street | Anytown, USA, 12345 ...               1  \n",
       "1  John Doe123 Main Street | Anytown, USA, 12345 ...               2  \n",
       "2  John Doe123 Main Street | Anytown, USA, 12345 ...               3  \n",
       "3  John Doe123 Main Street | Anytown, USA, 12345 ...               4  \n",
       "4  Jane Smith123 Elm Street | Springfield, IL 627...               5  "
      ]
     },
     "execution_count": 11,
     "metadata": {},
     "output_type": "execute_result"
    }
   ],
   "source": [
    "nltk.download('stopwords')\n",
    "nltk.download('punkt')\n",
    "\n",
    "df = pd.read_csv('../data/resumes_job_postings.csv', sep=';')\n",
    "df.head()"
   ]
  },
  {
   "cell_type": "code",
   "execution_count": 12,
   "metadata": {},
   "outputs": [
    {
     "name": "stdout",
     "output_type": "stream",
     "text": [
      "   resume_number  similarity_score\n",
      "0              0          0.646133\n",
      "1              1          0.612038\n",
      "2              2          0.490929\n",
      "3              3          0.276778\n",
      "4              4          0.209474\n",
      "5              5          0.120061\n",
      "6              6          0.051464\n"
     ]
    }
   ],
   "source": [
    "stop_words = set(stopwords.words('english'))\n",
    "\n",
    "def preprocess_text(text):\n",
    "    words = word_tokenize(text)\n",
    "    words = [word for word in words if word.isalnum()]\n",
    "    words = [word for word in words if word.lower() not in stop_words]\n",
    "    return ' '.join(words)\n",
    "\n",
    "df['job_description'] = df['job_description'].apply(preprocess_text)\n",
    "df['resume'] = df['resume'].apply(preprocess_text)\n",
    "\n",
    "job_description = df['job_description'].iloc[0]\n",
    "\n",
    "vectorizer = TfidfVectorizer()\n",
    "tfidf_matrix = vectorizer.fit_transform([job_description] + df['resume'].tolist())\n",
    "\n",
    "job_description_tfidf = tfidf_matrix[0]\n",
    "resume_tfidf = tfidf_matrix[1:]\n",
    "\n",
    "similarity_scores = cosine_similarity(job_description_tfidf, resume_tfidf).flatten()\n",
    "\n",
    "result_df = pd.DataFrame({'resume_number': range(len(df)), 'similarity_score': similarity_scores})\n",
    "\n",
    "print(result_df)"
   ]
  }
 ],
 "metadata": {
  "kernelspec": {
   "display_name": "base",
   "language": "python",
   "name": "python3"
  },
  "language_info": {
   "codemirror_mode": {
    "name": "ipython",
    "version": 3
   },
   "file_extension": ".py",
   "mimetype": "text/x-python",
   "name": "python",
   "nbconvert_exporter": "python",
   "pygments_lexer": "ipython3",
   "version": "3.11.5"
  }
 },
 "nbformat": 4,
 "nbformat_minor": 2
}
